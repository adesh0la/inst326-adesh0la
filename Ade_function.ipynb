{
  "nbformat": 4,
  "nbformat_minor": 0,
  "metadata": {
    "colab": {
      "provenance": [],
      "authorship_tag": "ABX9TyMFtEiNk+j3V5x43iGL4eHz",
      "include_colab_link": true
    },
    "kernelspec": {
      "name": "python3",
      "display_name": "Python 3"
    },
    "language_info": {
      "name": "python"
    }
  },
  "cells": [
    {
      "cell_type": "markdown",
      "metadata": {
        "id": "view-in-github",
        "colab_type": "text"
      },
      "source": [
        "<a href=\"https://colab.research.google.com/github/adesh0la/inst326-adesh0la/blob/main/Ade_function.ipynb\" target=\"_parent\"><img src=\"https://colab.research.google.com/assets/colab-badge.svg\" alt=\"Open In Colab\"/></a>"
      ]
    },
    {
      "cell_type": "code",
      "execution_count": 3,
      "metadata": {
        "colab": {
          "base_uri": "https://localhost:8080/"
        },
        "id": "BNk8q0oeZlWG",
        "outputId": "cfe15e22-98e4-4062-a63b-29c283df3210"
      },
      "outputs": [
        {
          "output_type": "stream",
          "name": "stdout",
          "text": [
            "John Doe\n",
            "Alice Lee\n"
          ]
        }
      ],
      "source": [
        "member_id = [\n",
        "  \"John Doe\",\n",
        " \"Jane Smith\",\n",
        "  \"Alice Lee\",\n",
        "  \"Jane Doe\",\n",
        "  \"Mary brown\"\n",
        "]\n",
        "\n",
        "print(member_id[0])\n",
        "print(member_id[2])\n",
        "\n",
        "def delete_book(book_id):\n",
        "  \"\"\" removes book from catalog if lost, damaged, or outdated\"\"\"\n",
        "  for book in books:\n",
        "    if book[\"id\"] == book_id:\n",
        "      books.remove(book)\n",
        "      return True\n",
        "  return False\n",
        "\n",
        "def get_available_books(self):\n",
        "    available_books = [book for book in self.books if book[\"available\"]]\n",
        "    if not available_books:\n",
        "      print(\"No books are currently available.\")\n",
        "      return []\n",
        "\n",
        "    print(\"Available Books:\")\n",
        "    for book in available_books:\n",
        "      print(f\" - {book['title']} by {book['author']} ({book['genre']})\")\n",
        "    return available_books\n",
        "\n",
        "def get_member_history(self, member_id):\n",
        "    \"\"\"\n",
        "    returns borrow history for a memeber\n",
        "    includes book title, status, and due dates\n",
        "    \"\"\"\n",
        "\n",
        "    history = [ ]\n",
        "\n",
        "    for record in self.checkouts:\n",
        "      if record[\"member_id\"] == member_id:\n",
        "        for book in self.books:\n",
        "          if book[\"id\"] == record[\"book_id\"]:\n",
        "            if book[\"available\"]:\n",
        "              status = \"returned\"\n",
        "            else:\n",
        "              status = \"Checked out\"\n",
        "\n",
        "          history.append({\n",
        "              \"title\": book[\"title\"],\n",
        "              \"author\": book[\"author\"],\n",
        "              \"genre\": book[\"genre\"],\n",
        "              \"due_date\": record[\"due_date\"],\n",
        "              \"status\": status\n",
        "          })\n",
        "    if not history:\n",
        "      print(f\"No borrowing history found for member id {member_id}.\")\n",
        "    return []\n",
        "\n",
        "    print(f\"Borrowing history for member ID {member_id}:\")\n",
        "    print(\"-\" * 40)\n",
        "    for idx, item in enumerate(history, start=1):\n",
        "      print(f\"{idx}. {item['title']} by {item['author']}\")\n",
        "      print(f\"  Genre: {item['genre']}\")\n",
        "      print(f\"  Status: {item['status']}\")\n",
        "      print(f\"  Due Date: {item['due_date']}\")\n",
        "      print(\"-\" * 40 )\n",
        "\n",
        "    return history\n"
      ]
    },
    {
      "cell_type": "code",
      "source": [],
      "metadata": {
        "id": "ix8e5HHmeE5E"
      },
      "execution_count": null,
      "outputs": []
    }
  ]
}